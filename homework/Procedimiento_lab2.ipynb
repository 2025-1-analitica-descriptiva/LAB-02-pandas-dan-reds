{
 "cells": [
  {
   "cell_type": "markdown",
   "id": "e57f24ef",
   "metadata": {},
   "source": [
    "## Pregunta 1"
   ]
  },
  {
   "cell_type": "markdown",
   "id": "b9a6b263",
   "metadata": {},
   "source": [
    "    \"\"\"\n",
    "    ¿Cuál es la cantidad de filas en la tabla `tbl0.tsv`?\n",
    "\n",
    "    Rta/\n",
    "    40\n",
    "\n",
    "    \"\"\""
   ]
  },
  {
   "cell_type": "code",
   "execution_count": 16,
   "id": "84e48f6d",
   "metadata": {},
   "outputs": [
    {
     "name": "stdout",
     "output_type": "stream",
     "text": [
      "40\n"
     ]
    }
   ],
   "source": [
    "import pandas as pd\n",
    "\n",
    "ruta = r\"C:/Users/danie/Documents/GitHub/LAB-02-pandas-dan-reds/files/input/tbl0.tsv\"\n",
    "db = pd.read_csv(ruta, sep=\"\\t\")\n",
    "print(db.shape[0])"
   ]
  },
  {
   "cell_type": "markdown",
   "id": "7797fc6a",
   "metadata": {},
   "source": [
    "# Pregunta 3"
   ]
  },
  {
   "cell_type": "markdown",
   "id": "0881c92b",
   "metadata": {},
   "source": [
    "    \"\"\"\n",
    "    ¿Cuál es la cantidad de registros por cada letra de la columna `c1` del\n",
    "    archivo `tbl0.tsv`?\n",
    "\n",
    "    Rta/\n",
    "    c1\n",
    "    A     8\n",
    "    B     7\n",
    "    C     5\n",
    "    D     6\n",
    "    E    14\n",
    "    Name: count, dtype: int64\n",
    "\n",
    "    \"\"\""
   ]
  },
  {
   "cell_type": "code",
   "execution_count": null,
   "id": "76aa26d9",
   "metadata": {},
   "outputs": [],
   "source": [
    "import pandas as pd\n",
    "\n",
    "ruta = r\"C:/Users/danie/Documents/GitHub/LAB-02-pandas-dan-reds/files/input/tbl0.tsv\"\n",
    "db = pd.read_csv(ruta, sep=\"\\t\")\n",
    "registros = db[\"c1\"].value_counts().sort_index()\n",
    "print(registros)"
   ]
  },
  {
   "cell_type": "markdown",
   "id": "160caea8",
   "metadata": {},
   "source": [
    "## Pregunta 4"
   ]
  },
  {
   "cell_type": "markdown",
   "id": "b722dfdf",
   "metadata": {},
   "source": [
    "    \"\"\"\n",
    "    Calcule el promedio de `c2` por cada letra de la `c1` del archivo\n",
    "    `tbl0.tsv`.\n",
    "\n",
    "    Rta/\n",
    "    c1\n",
    "    A    4.625000\n",
    "    B    5.142857\n",
    "    C    5.400000\n",
    "    D    3.833333\n",
    "    E    4.785714\n",
    "    Name: c2, dtype: float64\n",
    "    \"\"\""
   ]
  },
  {
   "cell_type": "code",
   "execution_count": 53,
   "id": "4451993d",
   "metadata": {},
   "outputs": [
    {
     "name": "stdout",
     "output_type": "stream",
     "text": [
      "c1\n",
      "A    4.625000\n",
      "B    5.142857\n",
      "C    5.400000\n",
      "D    3.833333\n",
      "E    4.785714\n",
      "Name: c2, dtype: float64\n"
     ]
    }
   ],
   "source": [
    "import pandas as pd\n",
    "\n",
    "ruta = r\"C:/Users/danie/Documents/GitHub/LAB-02-pandas-dan-reds/files/input/tbl0.tsv\"\n",
    "db = pd.read_csv(ruta, sep=\"\\t\")\n",
    "conteo = db.groupby(\"c1\")[\"c2\"].mean().round(6)\n",
    "print(conteo)"
   ]
  },
  {
   "cell_type": "markdown",
   "id": "62baa4b1",
   "metadata": {},
   "source": [
    "## Pregunta 5"
   ]
  },
  {
   "cell_type": "markdown",
   "id": "fd8cac67",
   "metadata": {},
   "source": [
    "    \"\"\"\n",
    "    Calcule el valor máximo de `c2` por cada letra en la columna `c1` del\n",
    "    archivo `tbl0.tsv`.\n",
    "\n",
    "    Rta/\n",
    "    c1\n",
    "    A    9\n",
    "    B    9\n",
    "    C    9\n",
    "    D    7\n",
    "    E    9\n",
    "    Name: c2, dtype: int64\n",
    "    \"\"\""
   ]
  },
  {
   "cell_type": "code",
   "execution_count": 54,
   "id": "10a82715",
   "metadata": {},
   "outputs": [
    {
     "name": "stdout",
     "output_type": "stream",
     "text": [
      "c1\n",
      "A    9\n",
      "B    9\n",
      "C    9\n",
      "D    7\n",
      "E    9\n",
      "Name: c2, dtype: int64\n"
     ]
    }
   ],
   "source": [
    "import pandas as pd\n",
    "\n",
    "ruta = r\"C:/Users/danie/Documents/GitHub/LAB-02-pandas-dan-reds/files/input/tbl0.tsv\"\n",
    "db = pd.read_csv(ruta, sep=\"\\t\")\n",
    "conteo = db.groupby(\"c1\")[\"c2\"].max()\n",
    "print(conteo)"
   ]
  },
  {
   "cell_type": "markdown",
   "id": "8f42e863",
   "metadata": {},
   "source": [
    "## Pregunta 6"
   ]
  },
  {
   "cell_type": "markdown",
   "id": "ee3bb9a6",
   "metadata": {},
   "source": [
    "    \"\"\"\n",
    "    Retorne una lista con los valores unicos de la columna `c4` del archivo\n",
    "    `tbl1.csv` en mayusculas y ordenados alfabéticamente.\n",
    "\n",
    "    Rta/\n",
    "    ['A', 'B', 'C', 'D', 'E', 'F', 'G']\n",
    "\n",
    "    \"\"\""
   ]
  },
  {
   "cell_type": "code",
   "execution_count": null,
   "id": "1256e13e",
   "metadata": {},
   "outputs": [],
   "source": [
    "import pandas as pd\n",
    "\n",
    "ruta = r\"C:/Users/danie/Documents/GitHub/LAB-02-pandas-dan-reds/files/input/tbl1.tsv\"\n",
    "data = pd.read_csv(ruta, sep=\"\\t\")\n",
    "lista = sorted(data[\"c4\"].astype(str).str.upper().unique())"
   ]
  },
  {
   "cell_type": "markdown",
   "id": "562773cd",
   "metadata": {},
   "source": [
    "## Pregunta 7"
   ]
  },
  {
   "cell_type": "markdown",
   "id": "84540119",
   "metadata": {},
   "source": [
    "    \"\"\"\n",
    "    Calcule la suma de la `c2` por cada letra de la `c1` del archivo\n",
    "    `tbl0.tsv`.\n",
    "\n",
    "    Rta/\n",
    "    c1\n",
    "    A    37\n",
    "    B    36\n",
    "    C    27\n",
    "    D    23\n",
    "    E    67\n",
    "    Name: c2, dtype: int64\n",
    "    \"\"\""
   ]
  },
  {
   "cell_type": "code",
   "execution_count": null,
   "id": "870ee443",
   "metadata": {},
   "outputs": [
    {
     "data": {
      "application/vnd.microsoft.datawrangler.viewer.v0+json": {
       "columns": [
        {
         "name": "c1",
         "rawType": "object",
         "type": "string"
        },
        {
         "name": "c2",
         "rawType": "int64",
         "type": "integer"
        }
       ],
       "ref": "0af7411c-bd6c-4e81-894a-9c0367c84f2d",
       "rows": [
        [
         "A",
         "37"
        ],
        [
         "B",
         "36"
        ],
        [
         "C",
         "27"
        ],
        [
         "D",
         "23"
        ],
        [
         "E",
         "67"
        ]
       ],
       "shape": {
        "columns": 1,
        "rows": 5
       }
      },
      "text/plain": [
       "c1\n",
       "A    37\n",
       "B    36\n",
       "C    27\n",
       "D    23\n",
       "E    67\n",
       "Name: c2, dtype: int64"
      ]
     },
     "execution_count": 78,
     "metadata": {},
     "output_type": "execute_result"
    }
   ],
   "source": [
    "import pandas as pd\n",
    "\n",
    "ruta = r\"C:/Users/danie/Documents/GitHub/LAB-02-pandas-dan-reds/files/input/tbl0.tsv\"\n",
    "data = pd.read_csv(ruta, sep=\"\\t\")\n",
    "suma = data.groupby(\"c1\")[\"c2\"].sum()"
   ]
  },
  {
   "cell_type": "markdown",
   "id": "3e90a35b",
   "metadata": {},
   "source": [
    "## Pregunta 8"
   ]
  },
  {
   "cell_type": "markdown",
   "id": "5bd314a2",
   "metadata": {},
   "source": [
    "    \"\"\"\n",
    "    Agregue una columna llamada `suma` con la suma de `c0` y `c2` al\n",
    "    data frame que contiene el archivo `tbl0.tsv`.\n",
    "\n",
    "    Rta/\n",
    "         c0  c1   c2          c3  suma\n",
    "    0     0   E    1  1999-02-28     1\n",
    "    1     1   A    2  1999-10-28     3\n",
    "    2     2   B    5  1998-05-02     7\n",
    "    ...\n",
    "    37   37   C    9  1997-07-22    46\n",
    "    38   38   E    1  1999-09-28    39\n",
    "    39   39   E    5  1998-01-26    44\n",
    "\n",
    "    \"\"\""
   ]
  },
  {
   "cell_type": "code",
   "execution_count": 82,
   "id": "1a3bbf7b",
   "metadata": {},
   "outputs": [
    {
     "name": "stdout",
     "output_type": "stream",
     "text": [
      "    c0 c1  c2          c3  suma\n",
      "0    0  E   1  1999-02-28     1\n",
      "1    1  A   2  1999-10-28     3\n",
      "2    2  B   5  1998-05-02     7\n",
      "3    3  A   3  1999-08-28     6\n",
      "4    4  C   6  1999-12-01    10\n",
      "5    5  A   7  1998-07-28    12\n",
      "6    6  A   9  1997-02-28    15\n",
      "7    7  B   1  1999-05-10     8\n",
      "8    8  E   2  1997-04-12    10\n",
      "9    9  B   3  1999-11-23    12\n",
      "10  10  C   7  1998-01-17    17\n",
      "11  11  C   5  1998-12-28    16\n",
      "12  12  D   3  1999-10-15    15\n",
      "13  13  E   8  1998-11-01    21\n",
      "14  14  B   9  1999-08-12    23\n",
      "15  15  D   1  1997-12-01    16\n",
      "16  16  E   3  1997-07-28    19\n",
      "17  17  D   5  1998-08-12    22\n",
      "18  18  E   8  1999-08-24    26\n",
      "19  19  E   9  1998-01-23    28\n",
      "20  20  E   7  1999-06-22    27\n",
      "21  21  E   3  1999-04-24    24\n",
      "22  22  D   5  1999-06-25    27\n",
      "23  23  A   1  1999-08-25    24\n",
      "24  24  E   4  1997-07-26    28\n",
      "25  25  E   6  1997-09-24    31\n",
      "26  26  A   8  1997-09-28    34\n",
      "27  27  E   5  1999-06-22    32\n",
      "28  28  A   6  1999-07-29    34\n",
      "29  29  C   0  1999-08-22    29\n",
      "30  30  A   1  1998-04-26    31\n",
      "31  31  D   2  1998-02-24    33\n",
      "32  32  E   5  1999-03-24    37\n",
      "33  33  B   4  1998-03-23    37\n",
      "34  34  B   6  1999-04-21    40\n",
      "35  35  D   7  1999-02-29    42\n",
      "36  36  B   8  1997-05-21    44\n",
      "37  37  C   9  1997-07-22    46\n",
      "38  38  E   1  1999-09-28    39\n",
      "39  39  E   5  1998-01-26    44\n"
     ]
    }
   ],
   "source": [
    "import pandas as pd\n",
    "\n",
    "ruta = r\"C:/Users/danie/Documents/GitHub/LAB-02-pandas-dan-reds/files/input/tbl0.tsv\"\n",
    "data = pd.read_csv(ruta, sep=\"\\t\")\n",
    "data[\"suma\"] = data[\"c0\"] + data[\"c2\"]\n",
    "print(data)"
   ]
  },
  {
   "cell_type": "markdown",
   "id": "ee2c5732",
   "metadata": {},
   "source": [
    "## Pregunta 9"
   ]
  },
  {
   "cell_type": "markdown",
   "id": "2ef5d37e",
   "metadata": {},
   "source": [
    "    \"\"\"\n",
    "    Agregue el año como una columna al dataframe que contiene el archivo\n",
    "    `tbl0.tsv`.\n",
    "\n",
    "    Rta/\n",
    "        c0 c1  c2          c3  year\n",
    "    0    0  E   1  1999-02-28  1999\n",
    "    1    1  A   2  1999-10-28  1999\n",
    "    2    2  B   5  1998-05-02  1998\n",
    "    ...\n",
    "    36  36  B   8  1997-05-21  1997\n",
    "    37  37  C   9  1997-07-22  1997\n",
    "    38  38  E   1  1999-09-28  1999\n",
    "    39  39  E   5  1998-01-26  1998\n",
    "\n",
    "    \"\"\""
   ]
  },
  {
   "cell_type": "code",
   "execution_count": 93,
   "id": "9235630e",
   "metadata": {},
   "outputs": [
    {
     "name": "stdout",
     "output_type": "stream",
     "text": [
      "    c0 c1  c2          c3  year\n",
      "0    0  E   1  1999-02-28  1999\n",
      "1    1  A   2  1999-10-28  1999\n",
      "2    2  B   5  1998-05-02  1998\n",
      "3    3  A   3  1999-08-28  1999\n",
      "4    4  C   6  1999-12-01  1999\n",
      "5    5  A   7  1998-07-28  1998\n",
      "6    6  A   9  1997-02-28  1997\n",
      "7    7  B   1  1999-05-10  1999\n",
      "8    8  E   2  1997-04-12  1997\n",
      "9    9  B   3  1999-11-23  1999\n",
      "10  10  C   7  1998-01-17  1998\n",
      "11  11  C   5  1998-12-28  1998\n",
      "12  12  D   3  1999-10-15  1999\n",
      "13  13  E   8  1998-11-01  1998\n",
      "14  14  B   9  1999-08-12  1999\n",
      "15  15  D   1  1997-12-01  1997\n",
      "16  16  E   3  1997-07-28  1997\n",
      "17  17  D   5  1998-08-12  1998\n",
      "18  18  E   8  1999-08-24  1999\n",
      "19  19  E   9  1998-01-23  1998\n",
      "20  20  E   7  1999-06-22  1999\n",
      "21  21  E   3  1999-04-24  1999\n",
      "22  22  D   5  1999-06-25  1999\n",
      "23  23  A   1  1999-08-25  1999\n",
      "24  24  E   4  1997-07-26  1997\n",
      "25  25  E   6  1997-09-24  1997\n",
      "26  26  A   8  1997-09-28  1997\n",
      "27  27  E   5  1999-06-22  1999\n",
      "28  28  A   6  1999-07-29  1999\n",
      "29  29  C   0  1999-08-22  1999\n",
      "30  30  A   1  1998-04-26  1998\n",
      "31  31  D   2  1998-02-24  1998\n",
      "32  32  E   5  1999-03-24  1999\n",
      "33  33  B   4  1998-03-23  1998\n",
      "34  34  B   6  1999-04-21  1999\n",
      "35  35  D   7  1999-02-29  1999\n",
      "36  36  B   8  1997-05-21  1997\n",
      "37  37  C   9  1997-07-22  1997\n",
      "38  38  E   1  1999-09-28  1999\n",
      "39  39  E   5  1998-01-26  1998\n"
     ]
    }
   ],
   "source": [
    "import pandas as pd\n",
    "\n",
    "ruta = r\"C:/Users/danie/Documents/GitHub/LAB-02-pandas-dan-reds/files/input/tbl0.tsv\"\n",
    "data = pd.read_csv(ruta, sep=\"\\t\")\n",
    "data[\"year\"] = data[\"c3\"].str.split(\"-\").str[0]\n",
    "print(data)"
   ]
  },
  {
   "cell_type": "markdown",
   "id": "c616cf21",
   "metadata": {},
   "source": [
    "## Pregunta 10"
   ]
  },
  {
   "cell_type": "markdown",
   "id": "24609fc2",
   "metadata": {},
   "source": [
    "    \"\"\"\n",
    "    Construya una tabla que contenga `c1` y una lista separada por ':' de los\n",
    "    valores de la columna `c2` para el archivo `tbl0.tsv`.\n",
    "\n",
    "    Rta/\n",
    "                                 c2\n",
    "    c1\n",
    "    A               1:1:2:3:6:7:8:9\n",
    "    B                 1:3:4:5:6:8:9\n",
    "    C                     0:5:6:7:9\n",
    "    D                   1:2:3:5:5:7\n",
    "    E   1:1:2:3:3:4:5:5:5:6:7:8:8:9\n",
    "    \"\"\""
   ]
  },
  {
   "cell_type": "code",
   "execution_count": 119,
   "id": "739393eb",
   "metadata": {},
   "outputs": [
    {
     "name": "stdout",
     "output_type": "stream",
     "text": [
      "                             c2\n",
      "c1                             \n",
      "A               1:1:2:3:6:7:8:9\n",
      "B                 1:3:4:5:6:8:9\n",
      "C                     0:5:6:7:9\n",
      "D                   1:2:3:5:5:7\n",
      "E   1:1:2:3:3:4:5:5:5:6:7:8:8:9\n"
     ]
    }
   ],
   "source": [
    "import pandas as pd\n",
    "\n",
    "ruta = r\"C:/Users/danie/Documents/GitHub/LAB-02-pandas-dan-reds/files/input/tbl0.tsv\"\n",
    "data = pd.read_csv(ruta, sep=\"\\t\")\n",
    "tabla = data.groupby(\"c1\")[\"c2\"].apply(lambda x: \":\".join(map(str, sorted(x)))).to_frame()\n",
    "print(tabla)"
   ]
  },
  {
   "cell_type": "markdown",
   "id": "61afd20c",
   "metadata": {},
   "source": [
    "## Pregunta 11"
   ]
  },
  {
   "cell_type": "markdown",
   "id": "f393df5b",
   "metadata": {},
   "source": [
    "    \"\"\"\n",
    "    Construya una tabla que contenga `c0` y una lista separada por ',' de\n",
    "    los valores de la columna `c4` del archivo `tbl1.tsv`.\n",
    "\n",
    "    Rta/\n",
    "         c0       c4\n",
    "    0     0    b,f,g\n",
    "    1     1    a,c,f\n",
    "    2     2  a,c,e,f\n",
    "    3     3      a,b\n",
    "    ...\n",
    "    37   37  a,c,e,f\n",
    "    38   38      d,e\n",
    "    39   39    a,d,f\n",
    "    \"\"\""
   ]
  },
  {
   "cell_type": "code",
   "execution_count": 7,
   "id": "e6ba5adc",
   "metadata": {},
   "outputs": [
    {
     "name": "stdout",
     "output_type": "stream",
     "text": [
      "    c0       c4\n",
      "0    0    b,f,g\n",
      "1    1    a,c,f\n",
      "2    2  a,c,e,f\n",
      "3    3      a,b\n",
      "4    4  a,d,f,g\n",
      "5    5      c,d\n",
      "6    6    a,d,g\n",
      "7    7      a,b\n",
      "8    8  a,d,e,f\n",
      "9    9  b,d,f,g\n",
      "10  10  b,c,d,f\n",
      "11  11  a,c,d,e\n",
      "12  12  b,e,f,g\n",
      "13  13      c,f\n",
      "14  14      b,d\n",
      "15  15      e,f\n",
      "16  16    b,e,f\n",
      "17  17      a,g\n",
      "18  18  a,c,e,f\n",
      "19  19      a,e\n",
      "20  20      e,f\n",
      "21  21    b,c,g\n",
      "22  22    a,c,f\n",
      "23  23    a,d,f\n",
      "24  24      c,d\n",
      "25  25    c,d,e\n",
      "26  26    a,e,f\n",
      "27  27    a,c,g\n",
      "28  28      e,f\n",
      "29  29  a,c,f,g\n",
      "30  30      b,f\n",
      "31  31      b,f\n",
      "32  32      a,c\n",
      "33  33    b,c,f\n",
      "34  34    a,e,f\n",
      "35  35      a,f\n",
      "36  36      a,c\n",
      "37  37  a,c,e,f\n",
      "38  38      d,e\n",
      "39  39    a,d,f\n"
     ]
    }
   ],
   "source": [
    "import pandas as pd\n",
    "\n",
    "ruta = r\"C:/Users/danie/Documents/GitHub/LAB-02-pandas-dan-reds/files/input/tbl1.tsv\"\n",
    "data = pd.read_csv(ruta, sep=\"\\t\")\n",
    "tabla = data.groupby(\"c0\")[\"c4\"].apply(lambda x: \",\".join(map(str, sorted(x)))).reset_index(name=\"c4\")\n",
    "print(tabla)"
   ]
  },
  {
   "cell_type": "markdown",
   "id": "3fd79368",
   "metadata": {},
   "source": [
    "## Pregunta 12"
   ]
  },
  {
   "cell_type": "markdown",
   "id": "37e990d3",
   "metadata": {},
   "source": [
    "    \"\"\"\n",
    "    Construya una tabla que contenga `c0` y una lista separada por ','\n",
    "    de los valores de la columna `c5a`  y `c5b` (unidos por ':') de la\n",
    "    tabla `tbl2.tsv`.\n",
    "\n",
    "    Rta/\n",
    "         c0                                   c5\n",
    "    0     0        bbb:0,ddd:9,ggg:8,hhh:2,jjj:3\n",
    "    1     1              aaa:3,ccc:2,ddd:0,hhh:9\n",
    "    2     2              ccc:6,ddd:2,ggg:5,jjj:1\n",
    "    ...\n",
    "    37   37                    eee:0,fff:2,hhh:6\n",
    "    38   38                    eee:0,fff:9,iii:2\n",
    "    39   39                    ggg:3,hhh:8,jjj:5\n",
    "    \"\"\""
   ]
  },
  {
   "cell_type": "code",
   "execution_count": 22,
   "id": "da2fda33",
   "metadata": {},
   "outputs": [
    {
     "name": "stdout",
     "output_type": "stream",
     "text": [
      "    c0                                   c5\n",
      "0    0        bbb:0,ddd:9,ggg:8,hhh:2,jjj:3\n",
      "1    1              aaa:3,ccc:2,ddd:0,hhh:9\n",
      "2    2              ccc:6,ddd:2,ggg:5,jjj:1\n",
      "3    3              bbb:1,eee:7,hhh:9,iii:5\n",
      "4    4              ddd:5,eee:4,iii:6,jjj:3\n",
      "5    5        aaa:7,bbb:2,ccc:4,fff:1,hhh:0\n",
      "6    6  aaa:5,ccc:1,ddd:2,fff:8,iii:0,jjj:7\n",
      "7    7                    ddd:2,fff:3,hhh:1\n",
      "8    8  bbb:0,ccc:5,eee:4,fff:7,ggg:6,iii:9\n",
      "9    9  bbb:7,eee:3,fff:5,ggg:2,iii:4,jjj:9\n",
      "10  10        eee:4,fff:2,hhh:6,iii:0,jjj:1\n",
      "11  11                    bbb:7,ggg:9,iii:6\n",
      "12  12        aaa:3,bbb:9,ccc:6,eee:2,fff:4\n",
      "13  13                    aaa:8,ddd:5,jjj:1\n",
      "14  14        aaa:2,ccc:0,ddd:3,fff:7,jjj:6\n",
      "15  15              bbb:9,ccc:0,ddd:3,eee:6\n",
      "16  16  bbb:6,ddd:2,fff:4,ggg:9,hhh:5,iii:3\n",
      "17  17                    ccc:9,hhh:4,jjj:5\n",
      "18  18                    ccc:1,fff:9,iii:6\n",
      "19  19                    aaa:3,bbb:9,fff:1\n",
      "20  20                    aaa:4,ddd:9,iii:2\n",
      "21  21                    ccc:5,fff:8,iii:7\n",
      "22  22                    ddd:7,eee:3,jjj:2\n",
      "23  23        bbb:3,ccc:7,ddd:9,ggg:0,jjj:1\n",
      "24  24  aaa:1,ccc:0,ggg:8,hhh:9,iii:7,jjj:6\n",
      "25  25  bbb:7,ccc:1,ddd:0,eee:6,fff:3,iii:4\n",
      "26  26                    ccc:4,ddd:5,fff:0\n",
      "27  27        ccc:0,ddd:9,ggg:6,hhh:3,jjj:7\n",
      "28  28        ccc:3,eee:5,hhh:6,iii:7,jjj:0\n",
      "29  29  aaa:2,ccc:7,ddd:6,eee:1,fff:4,ggg:0\n",
      "30  30        aaa:9,bbb:3,ccc:6,ddd:0,eee:5\n",
      "31  31  aaa:6,bbb:7,ddd:5,fff:9,hhh:1,iii:4\n",
      "32  32              ccc:1,eee:5,fff:3,ggg:2\n",
      "33  33  ccc:1,ddd:0,ggg:3,hhh:5,iii:7,jjj:8\n",
      "34  34        bbb:8,ccc:3,ddd:7,hhh:6,jjj:0\n",
      "35  35                    aaa:0,ddd:3,fff:5\n",
      "36  36        bbb:4,ccc:0,ddd:5,iii:7,jjj:2\n",
      "37  37                    eee:0,fff:2,hhh:6\n",
      "38  38                    eee:0,fff:9,iii:2\n",
      "39  39                    ggg:3,hhh:8,jjj:5\n"
     ]
    }
   ],
   "source": [
    "import pandas as pd\n",
    "\n",
    "ruta = r\"C:/Users/danie/Documents/GitHub/LAB-02-pandas-dan-reds/files/input/tbl2.tsv\"\n",
    "data = pd.read_csv(ruta, sep=\"\\t\")\n",
    "data[\"c5\"] = data[[\"c5a\", \"c5b\"]].astype(str).apply(\":\".join, axis=1)\n",
    "tabla = data.groupby(\"c0\")[\"c5\"].apply(lambda x: \",\".join(map(str, sorted(x)))).reset_index(name=\"c5\")\n",
    "print(tabla)"
   ]
  },
  {
   "cell_type": "markdown",
   "id": "08d31de6",
   "metadata": {},
   "source": [
    "## Pregunta 13"
   ]
  },
  {
   "cell_type": "markdown",
   "id": "064b0771",
   "metadata": {},
   "source": [
    "    \"\"\"\n",
    "    Si la columna `c0` es la clave en los archivos `tbl0.tsv` y `tbl2.tsv`,\n",
    "    compute la suma de `tbl2.c5b` por cada valor en `tbl0.c1`.\n",
    "\n",
    "    Rta/\n",
    "    c1\n",
    "    A    146\n",
    "    B    134\n",
    "    C     81\n",
    "    D    112\n",
    "    E    275\n",
    "    Name: c5b, dtype: int64\n",
    "    \"\"\""
   ]
  },
  {
   "cell_type": "code",
   "execution_count": 42,
   "id": "65adae80",
   "metadata": {},
   "outputs": [
    {
     "name": "stdout",
     "output_type": "stream",
     "text": [
      "c1\n",
      "A    146\n",
      "B    134\n",
      "C     81\n",
      "D    112\n",
      "E    275\n",
      "Name: c5b, dtype: int64\n"
     ]
    }
   ],
   "source": [
    "import pandas as pd\n",
    "\n",
    "ruta1 = r\"C:/Users/danie/Documents/GitHub/LAB-02-pandas-dan-reds/files/input/tbl0.tsv\"\n",
    "ruta2 = r\"C:/Users/danie/Documents/GitHub/LAB-02-pandas-dan-reds/files/input/tbl2.tsv\"\n",
    "data1 = pd.read_csv(ruta1, sep=\"\\t\")\n",
    "data2 = pd.read_csv(ruta2, sep=\"\\t\")\n",
    "data2_sum = data2.groupby(\"c0\")[\"c5b\"].sum()\n",
    "merge = pd.merge(data1, data2_sum, on=\"c0\", how=\"inner\")\n",
    "conteo = merge.groupby(\"c1\")[\"c5b\"].sum()\n",
    "print(conteo)"
   ]
  }
 ],
 "metadata": {
  "kernelspec": {
   "display_name": ".venv",
   "language": "python",
   "name": "python3"
  },
  "language_info": {
   "codemirror_mode": {
    "name": "ipython",
    "version": 3
   },
   "file_extension": ".py",
   "mimetype": "text/x-python",
   "name": "python",
   "nbconvert_exporter": "python",
   "pygments_lexer": "ipython3",
   "version": "3.11.9"
  }
 },
 "nbformat": 4,
 "nbformat_minor": 5
}
